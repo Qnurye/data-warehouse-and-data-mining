{
 "cells": [
  {
   "metadata": {},
   "cell_type": "markdown",
   "source": [
    "# Apriori 增量优化算法\n",
    "\n",
    "相比 Apriori 考虑了增量同步的数据库，避免了全量扫描。\n",
    "\n",
    "1. 对于新增频繁项集，如果已存在于更新后的频繁项集中，则累加其支持度，否则直接加入。\n",
    "2. 对于原频繁项集，支持度根据原数据集的比例进行更新。"
   ],
   "id": "bbd8496cb2523a2e"
  },
  {
   "cell_type": "code",
   "id": "initial_id",
   "metadata": {
    "collapsed": true,
    "ExecuteTime": {
     "end_time": "2024-11-15T09:26:03.152350Z",
     "start_time": "2024-11-15T09:26:03.147553Z"
    }
   },
   "source": [
    "from Apriori import apriori, incremental_update\n",
    "from utils import print_freq_set\n",
    "\n",
    "# 原始事务集\n",
    "DB = [{'A', 'B', 'C'},\n",
    "     {'A', 'C'},\n",
    "     {'A', 'B', 'C', 'D'},\n",
    "     {'B', 'C'}]\n",
    "# 最小支持度\n",
    "s = 0.5"
   ],
   "outputs": [],
   "execution_count": 1
  },
  {
   "metadata": {
    "ExecuteTime": {
     "end_time": "2024-11-15T09:26:03.211084Z",
     "start_time": "2024-11-15T09:26:03.205642Z"
    }
   },
   "cell_type": "code",
   "source": [
    "# 初始频繁项集\n",
    "FP = apriori(DB, s)\n",
    "print_freq_set(FP)"
   ],
   "id": "1117ba1b5cf52337",
   "outputs": [
    {
     "name": "stdout",
     "output_type": "stream",
     "text": [
      "{B}: 0.75\n",
      "{C}: 1.00\n",
      "{A}: 0.75\n",
      "{A, C}: 0.75\n",
      "{A, B}: 0.50\n",
      "{B, C}: 0.75\n",
      "{A, B, C}: 0.50\n"
     ]
    }
   ],
   "execution_count": 2
  },
  {
   "metadata": {
    "ExecuteTime": {
     "end_time": "2024-11-15T09:26:03.360732Z",
     "start_time": "2024-11-15T09:26:03.357386Z"
    }
   },
   "cell_type": "code",
   "source": [
    "# 增量事务集\n",
    "db = [{'A', 'B'},\n",
    "         {'B', 'C', 'D'}]\n",
    "\n",
    "FP = incremental_update(DB, db, FP, s)\n",
    "print_freq_set(FP)"
   ],
   "id": "2fd7a4971bce4e57",
   "outputs": [
    {
     "name": "stdout",
     "output_type": "stream",
     "text": [
      "{B}: 0.83\n",
      "{C}: 0.83\n",
      "{A}: 0.67\n",
      "{A, C}: 0.50\n",
      "{A, B}: 0.50\n",
      "{B, C}: 0.67\n",
      "{A, B, C}: 0.33\n",
      "{C, D}: 0.17\n",
      "{B, C, D}: 0.17\n",
      "{D}: 0.17\n",
      "{B, D}: 0.17\n"
     ]
    }
   ],
   "execution_count": 3
  }
 ],
 "metadata": {
  "kernelspec": {
   "display_name": "Python 3",
   "language": "python",
   "name": "python3"
  },
  "language_info": {
   "codemirror_mode": {
    "name": "ipython",
    "version": 2
   },
   "file_extension": ".py",
   "mimetype": "text/x-python",
   "name": "python",
   "nbconvert_exporter": "python",
   "pygments_lexer": "ipython2",
   "version": "2.7.6"
  }
 },
 "nbformat": 4,
 "nbformat_minor": 5
}
