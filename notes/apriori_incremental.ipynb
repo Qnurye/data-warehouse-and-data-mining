{
 "cells": [
  {
   "metadata": {},
   "cell_type": "markdown",
   "source": [
    "# Apriori 增量优化算法\n",
    "\n",
    "相比 Apriori 考虑了增量同步的数据库，避免了全量扫描。\n",
    "\n",
    "1. 对于新增频繁项集，如果已存在于更新后的频繁项集中，则累加其支持度，否则直接加入。\n",
    "2. 对于原频繁项集，支持度根据原数据集的比例进行更新。"
   ],
   "id": "bbd8496cb2523a2e"
  },
  {
   "cell_type": "code",
   "id": "initial_id",
   "metadata": {
    "collapsed": true,
    "ExecuteTime": {
     "end_time": "2024-11-06T12:36:36.919490Z",
     "start_time": "2024-11-06T12:36:36.916188Z"
    }
   },
   "source": [
    "from Apriori import apriori, incremental_update\n",
    "from utils import print_freq_set\n",
    "\n",
    "# 原始事务集\n",
    "DB = [{'A', 'B', 'C'},\n",
    "     {'A', 'C'},\n",
    "     {'A', 'B', 'C', 'D'},\n",
    "     {'B', 'C'}]\n",
    "# 最小支持度\n",
    "s = 0.5"
   ],
   "outputs": [],
   "execution_count": 5
  },
  {
   "metadata": {
    "ExecuteTime": {
     "end_time": "2024-11-06T12:36:51.315941Z",
     "start_time": "2024-11-06T12:36:51.308010Z"
    }
   },
   "cell_type": "code",
   "source": [
    "# 初始频繁项集\n",
    "FP = apriori(DB, s)\n",
    "print_freq_set(FP)"
   ],
   "id": "1117ba1b5cf52337",
   "outputs": [
    {
     "name": "stdout",
     "output_type": "stream",
     "text": [
      "{A}: 0.75\n",
      "{C}: 1.00\n",
      "{B}: 0.75\n",
      "{A, B}: 0.50\n",
      "{A, C}: 0.75\n",
      "{B, C}: 0.75\n",
      "{A, B, C}: 0.50\n"
     ]
    }
   ],
   "execution_count": 6
  },
  {
   "metadata": {
    "ExecuteTime": {
     "end_time": "2024-11-06T12:35:53.386313Z",
     "start_time": "2024-11-06T12:35:53.361695Z"
    }
   },
   "cell_type": "code",
   "source": [
    "# 增量事务集\n",
    "db = [{'A', 'B'},\n",
    "         {'B', 'C', 'D'}]\n",
    "\n",
    "FP = incremental_update(DB, db, FP, s)\n",
    "print_freq_set(FP)"
   ],
   "id": "2fd7a4971bce4e57",
   "outputs": [
    {
     "ename": "TypeError",
     "evalue": "incremental_update() takes 4 positional arguments but 5 were given",
     "output_type": "error",
     "traceback": [
      "\u001B[0;31m---------------------------------------------------------------------------\u001B[0m",
      "\u001B[0;31mTypeError\u001B[0m                                 Traceback (most recent call last)",
      "Cell \u001B[0;32mIn[4], line 7\u001B[0m\n\u001B[1;32m      5\u001B[0m \u001B[38;5;66;03m# 增量更新频繁项集\u001B[39;00m\n\u001B[1;32m      6\u001B[0m f_new \u001B[38;5;241m=\u001B[39m apriori(D_new, min_support)\n\u001B[0;32m----> 7\u001B[0m f_set_new \u001B[38;5;241m=\u001B[39m \u001B[43mincremental_update\u001B[49m\u001B[43m(\u001B[49m\u001B[43mD\u001B[49m\u001B[43m,\u001B[49m\u001B[43m \u001B[49m\u001B[43mD_new\u001B[49m\u001B[43m,\u001B[49m\u001B[43m \u001B[49m\u001B[43mf_set_initial\u001B[49m\u001B[43m,\u001B[49m\u001B[43m \u001B[49m\u001B[43mf_new\u001B[49m\u001B[43m,\u001B[49m\u001B[43m \u001B[49m\u001B[43mmin_support\u001B[49m\u001B[43m)\u001B[49m\n\u001B[1;32m      8\u001B[0m print_freq_set(f_set_new)\n",
      "\u001B[0;31mTypeError\u001B[0m: incremental_update() takes 4 positional arguments but 5 were given"
     ]
    }
   ],
   "execution_count": 4
  }
 ],
 "metadata": {
  "kernelspec": {
   "display_name": "Python 3",
   "language": "python",
   "name": "python3"
  },
  "language_info": {
   "codemirror_mode": {
    "name": "ipython",
    "version": 2
   },
   "file_extension": ".py",
   "mimetype": "text/x-python",
   "name": "python",
   "nbconvert_exporter": "python",
   "pygments_lexer": "ipython2",
   "version": "2.7.6"
  }
 },
 "nbformat": 4,
 "nbformat_minor": 5
}
